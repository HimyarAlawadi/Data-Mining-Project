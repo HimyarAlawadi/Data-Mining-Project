{
 "cells": [
  {
   "cell_type": "markdown",
   "metadata": {},
   "source": [
    "# Hamming Distance"
   ]
  },
  {
   "cell_type": "markdown",
   "metadata": {},
   "source": [
    "Data Cleaning"
   ]
  },
  {
   "cell_type": "code",
   "execution_count": 1,
   "metadata": {},
   "outputs": [],
   "source": [
    "import pandas as pd"
   ]
  },
  {
   "cell_type": "code",
   "execution_count": 2,
   "metadata": {},
   "outputs": [
    {
     "data": {
      "text/html": [
       "<div>\n",
       "<style scoped>\n",
       "    .dataframe tbody tr th:only-of-type {\n",
       "        vertical-align: middle;\n",
       "    }\n",
       "\n",
       "    .dataframe tbody tr th {\n",
       "        vertical-align: top;\n",
       "    }\n",
       "\n",
       "    .dataframe thead th {\n",
       "        text-align: right;\n",
       "    }\n",
       "</style>\n",
       "<table border=\"1\" class=\"dataframe\">\n",
       "  <thead>\n",
       "    <tr style=\"text-align: right;\">\n",
       "      <th></th>\n",
       "      <th>Line Number</th>\n",
       "      <th>Company Name</th>\n",
       "      <th>Company CIK Key</th>\n",
       "    </tr>\n",
       "  </thead>\n",
       "  <tbody>\n",
       "    <tr>\n",
       "      <th>0</th>\n",
       "      <td>1</td>\n",
       "      <td>!J INC</td>\n",
       "      <td>1438823</td>\n",
       "    </tr>\n",
       "    <tr>\n",
       "      <th>1</th>\n",
       "      <td>2</td>\n",
       "      <td>#1 A LIFESAFER HOLDINGS, INC.</td>\n",
       "      <td>1509607</td>\n",
       "    </tr>\n",
       "    <tr>\n",
       "      <th>2</th>\n",
       "      <td>3</td>\n",
       "      <td>#1 ARIZONA DISCOUNT PROPERTIES LLC</td>\n",
       "      <td>1457512</td>\n",
       "    </tr>\n",
       "    <tr>\n",
       "      <th>3</th>\n",
       "      <td>4</td>\n",
       "      <td>#1 PAINTBALL CORP</td>\n",
       "      <td>1433777</td>\n",
       "    </tr>\n",
       "    <tr>\n",
       "      <th>4</th>\n",
       "      <td>5</td>\n",
       "      <td>$ LLC</td>\n",
       "      <td>1427189</td>\n",
       "    </tr>\n",
       "  </tbody>\n",
       "</table>\n",
       "</div>"
      ],
      "text/plain": [
       "   Line Number                        Company Name  Company CIK Key\n",
       "0            1                              !J INC          1438823\n",
       "1            2       #1 A LIFESAFER HOLDINGS, INC.          1509607\n",
       "2            3  #1 ARIZONA DISCOUNT PROPERTIES LLC          1457512\n",
       "3            4                   #1 PAINTBALL CORP          1433777\n",
       "4            5                               $ LLC          1427189"
      ]
     },
     "execution_count": 2,
     "metadata": {},
     "output_type": "execute_result"
    }
   ],
   "source": [
    "df = pd.read_csv(\"./sec__edgar_company_info.csv\")\n",
    "\n",
    "df.head()"
   ]
  },
  {
   "cell_type": "code",
   "execution_count": 3,
   "metadata": {},
   "outputs": [],
   "source": [
    "company_name = df[\"Company Name\"]\t"
   ]
  },
  {
   "cell_type": "code",
   "execution_count": 4,
   "metadata": {},
   "outputs": [
    {
     "data": {
      "text/plain": [
       "0                                     !J INC\n",
       "1              #1 A LIFESAFER HOLDINGS, INC.\n",
       "2         #1 ARIZONA DISCOUNT PROPERTIES LLC\n",
       "3                          #1 PAINTBALL CORP\n",
       "4                                      $ LLC\n",
       "                         ...                \n",
       "662995                         ZZ GLOBAL LLC\n",
       "662996              ZZIF 2008 INVESTMENT LLC\n",
       "662997      ZZLL INFORMATION TECHNOLOGY, INC\n",
       "662998                              ZZX, LLC\n",
       "662999                 ZZYZX ZZAZX ZZOZX INC\n",
       "Name: Company Name, Length: 663000, dtype: object"
      ]
     },
     "execution_count": 4,
     "metadata": {},
     "output_type": "execute_result"
    }
   ],
   "source": [
    "company_name = company_name.str.strip()\n",
    "company_name\n",
    "\n"
   ]
  },
  {
   "cell_type": "code",
   "execution_count": 5,
   "metadata": {},
   "outputs": [
    {
     "data": {
      "text/plain": [
       "0                                     !j inc\n",
       "1              #1 a lifesafer holdings, inc.\n",
       "2         #1 arizona discount properties llc\n",
       "3                          #1 paintball corp\n",
       "4                                      $ llc\n",
       "                         ...                \n",
       "662995                         zz global llc\n",
       "662996              zzif 2008 investment llc\n",
       "662997      zzll information technology, inc\n",
       "662998                              zzx, llc\n",
       "662999                 zzyzx zzazx zzozx inc\n",
       "Name: Company Name, Length: 663000, dtype: object"
      ]
     },
     "execution_count": 5,
     "metadata": {},
     "output_type": "execute_result"
    }
   ],
   "source": [
    "company_name = company_name.str.lower()\n",
    "company_name"
   ]
  },
  {
   "cell_type": "code",
   "execution_count": 6,
   "metadata": {},
   "outputs": [
    {
     "data": {
      "text/plain": [
       "0                                    !j inc\n",
       "1              1 a lifesafer holdings, inc.\n",
       "2         1 arizona discount properties llc\n",
       "3                          1 paintball corp\n",
       "4                                     $ llc\n",
       "                        ...                \n",
       "662995                        zz global llc\n",
       "662996             zzif 2008 investment llc\n",
       "662997     zzll information technology, inc\n",
       "662998                             zzx, llc\n",
       "662999                zzyzx zzazx zzozx inc\n",
       "Name: Company Name, Length: 663000, dtype: object"
      ]
     },
     "execution_count": 6,
     "metadata": {},
     "output_type": "execute_result"
    }
   ],
   "source": [
    "company_name = company_name.str.replace(\"#\",\"\").replace(\".\",\"\").replace(\"$\",\"\")\n",
    "company_name"
   ]
  },
  {
   "cell_type": "code",
   "execution_count": 7,
   "metadata": {},
   "outputs": [],
   "source": [
    "import re"
   ]
  },
  {
   "cell_type": "code",
   "execution_count": 8,
   "metadata": {},
   "outputs": [
    {
     "data": {
      "text/plain": [
       "0                                    j inc\n",
       "1                 a lifesafer holdings inc\n",
       "2          arizona discount properties llc\n",
       "3                           paintball corp\n",
       "4                                      llc\n",
       "                        ...               \n",
       "662995                       zz global llc\n",
       "662996                zzif  investment llc\n",
       "662997     zzll information technology inc\n",
       "662998                             zzx llc\n",
       "662999               zzyzx zzazx zzozx inc\n",
       "Name: Company Name, Length: 663000, dtype: object"
      ]
     },
     "execution_count": 8,
     "metadata": {},
     "output_type": "execute_result"
    }
   ],
   "source": [
    "company_name = company_name.apply(lambda x:re.sub('[!|?/\\+-<>\"@~%^&*()_.,$]','',x))\n",
    "company_name"
   ]
  },
  {
   "cell_type": "code",
   "execution_count": 9,
   "metadata": {},
   "outputs": [
    {
     "name": "stdout",
     "output_type": "stream",
     "text": [
      "<class 'pandas.core.series.Series'>\n"
     ]
    }
   ],
   "source": [
    "print(type(company_name))"
   ]
  },
  {
   "cell_type": "code",
   "execution_count": 10,
   "metadata": {},
   "outputs": [
    {
     "data": {
      "text/plain": [
       "0                                    j inc\n",
       "1                 a lifesafer holdings inc\n",
       "2          arizona discount properties llc\n",
       "3                           paintball corp\n",
       "4                                      llc\n",
       "                        ...               \n",
       "662995                       zz global llc\n",
       "662996                zzif  investment llc\n",
       "662997     zzll information technology inc\n",
       "662998                             zzx llc\n",
       "662999               zzyzx zzazx zzozx inc\n",
       "Name: Company Name, Length: 663000, dtype: object"
      ]
     },
     "execution_count": 10,
     "metadata": {},
     "output_type": "execute_result"
    }
   ],
   "source": [
    "pattern = r'[0123456789]'\n",
    "company_name = company_name.apply(lambda x:re.sub(pattern,'',x))\n",
    "company_name"
   ]
  },
  {
   "cell_type": "code",
   "execution_count": 11,
   "metadata": {},
   "outputs": [
    {
     "data": {
      "text/html": [
       "<div>\n",
       "<style scoped>\n",
       "    .dataframe tbody tr th:only-of-type {\n",
       "        vertical-align: middle;\n",
       "    }\n",
       "\n",
       "    .dataframe tbody tr th {\n",
       "        vertical-align: top;\n",
       "    }\n",
       "\n",
       "    .dataframe thead th {\n",
       "        text-align: right;\n",
       "    }\n",
       "</style>\n",
       "<table border=\"1\" class=\"dataframe\">\n",
       "  <thead>\n",
       "    <tr style=\"text-align: right;\">\n",
       "      <th></th>\n",
       "      <th>Line Number</th>\n",
       "      <th>Company Name</th>\n",
       "      <th>Company CIK Key</th>\n",
       "    </tr>\n",
       "  </thead>\n",
       "  <tbody>\n",
       "    <tr>\n",
       "      <th>0</th>\n",
       "      <td>1</td>\n",
       "      <td>j inc</td>\n",
       "      <td>1438823</td>\n",
       "    </tr>\n",
       "    <tr>\n",
       "      <th>1</th>\n",
       "      <td>2</td>\n",
       "      <td>a lifesafer holdings inc</td>\n",
       "      <td>1509607</td>\n",
       "    </tr>\n",
       "    <tr>\n",
       "      <th>2</th>\n",
       "      <td>3</td>\n",
       "      <td>arizona discount properties llc</td>\n",
       "      <td>1457512</td>\n",
       "    </tr>\n",
       "    <tr>\n",
       "      <th>3</th>\n",
       "      <td>4</td>\n",
       "      <td>paintball corp</td>\n",
       "      <td>1433777</td>\n",
       "    </tr>\n",
       "    <tr>\n",
       "      <th>4</th>\n",
       "      <td>5</td>\n",
       "      <td>llc</td>\n",
       "      <td>1427189</td>\n",
       "    </tr>\n",
       "  </tbody>\n",
       "</table>\n",
       "</div>"
      ],
      "text/plain": [
       "   Line Number                      Company Name  Company CIK Key\n",
       "0            1                             j inc          1438823\n",
       "1            2          a lifesafer holdings inc          1509607\n",
       "2            3   arizona discount properties llc          1457512\n",
       "3            4                    paintball corp          1433777\n",
       "4            5                               llc          1427189"
      ]
     },
     "execution_count": 11,
     "metadata": {},
     "output_type": "execute_result"
    }
   ],
   "source": [
    "df[\"Company Name\"] = company_name\n",
    "\n",
    "df.head()"
   ]
  },
  {
   "cell_type": "markdown",
   "metadata": {},
   "source": [
    "Search Engine"
   ]
  },
  {
   "cell_type": "code",
   "execution_count": 12,
   "metadata": {},
   "outputs": [],
   "source": [
    "def hamming_distance(str1 , str2):\n",
    "    search_keyword_len = len(str1)\n",
    "    dataset_word_len = len(str2)\n",
    "    min_len = min(search_keyword_len,dataset_word_len)\n",
    "\n",
    "    distance = 0\n",
    "    for i in range(min_len - 1):\n",
    "        if str1[i] != str2[i]:\n",
    "            distance +=1\n",
    "\n",
    "    distance += abs(search_keyword_len - dataset_word_len)\n",
    "\n",
    "    return distance"
   ]
  },
  {
   "cell_type": "code",
   "execution_count": 13,
   "metadata": {},
   "outputs": [],
   "source": [
    "def finde_similar_keyword(df, column_name, search_keyword):\n",
    "    similarities = []\n",
    "    for dataset_string in df[column_name]:\n",
    "        similarity =  hamming_distance(search_keyword, dataset_string)\n",
    "        similarities.append((dataset_string, similarity))\n",
    "\n",
    "    similarities.sort(key= lambda x: x[1])\n",
    "\n",
    "    return similarities"
   ]
  },
  {
   "cell_type": "markdown",
   "metadata": {},
   "source": [
    "Example"
   ]
  },
  {
   "cell_type": "code",
   "execution_count": 15,
   "metadata": {},
   "outputs": [
    {
     "name": "stdout",
     "output_type": "stream",
     "text": [
      "String: j inc, Similarty: 0\n"
     ]
    }
   ],
   "source": [
    "search_keyword = \"j inc\"\n",
    "\n",
    "similarities = finde_similar_keyword(df=df,column_name=\"Company Name\",search_keyword=search_keyword)\n",
    "\n",
    "\n",
    "for string, similarty in similarities:\n",
    "    if similarty == 0:  # 0 Mean Identical Strings\n",
    "        print(f'String: {string}, Similarty: {similarty}')\n",
    "        similarities[20]\n"
   ]
  }
 ],
 "metadata": {
  "kernelspec": {
   "display_name": "Python 3.8.5 ('base')",
   "language": "python",
   "name": "python3"
  },
  "language_info": {
   "codemirror_mode": {
    "name": "ipython",
    "version": 3
   },
   "file_extension": ".py",
   "mimetype": "text/x-python",
   "name": "python",
   "nbconvert_exporter": "python",
   "pygments_lexer": "ipython3",
   "version": "3.8.5"
  },
  "orig_nbformat": 4,
  "vscode": {
   "interpreter": {
    "hash": "15217e49054be0cc374b881cf7a66e6425ee40d09a4a359a4f1bfa260b803372"
   }
  }
 },
 "nbformat": 4,
 "nbformat_minor": 2
}
